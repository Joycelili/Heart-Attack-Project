{
 "cells": [
  {
   "cell_type": "markdown",
   "metadata": {},
   "source": [
    "Jornadas de educación y prevención de Enfermedades Cardiovasculares.\n",
    "\n",
    "Objetivos:\n",
    "• Concienciar la población de alto riesgo de la importancia del control y la prevención cardiovascular.\n",
    "• Fomentar hábitos de vida saludables para prevenir la aparición de riesgos cardiovasculares, basados en datos científicos.\n",
    "• Que el paciente aprenda a reconocer y controlar los factores de riesgo cardiovasculares para prevenir la aparición de enfermedades del corazón.\n",
    "\n",
    "\n",
    "\n",
    "\n",
    "Según la Organización Mundial de la Salud \"Enfermedades cardiovasculares son un conjunto de trastornos del corazón y de los vasos sanguíneos. Son la principal causa de defunción en todo el mundo\", el cual solo para el año 2012 se tomó la vida de 17,5 millones de personas (1). Se estima que para el año 2030, casi 23,6 millones de personas morirán por alguna enfermedad cardiovascular, principalmente por cardiopatías y accidentes cerebrovasculares. Se prevé que estas enfermedades sigan siendo la principal causa de muerte.\n",
    "\n",
    "Es por ello la importancia de la prevención y tratamiento de estas enfermedades.\n",
    "\n",
    "\n",
    "En el siguiente  Proyecto se presenta una base de datos de Cleveland, USA. En la cual se usan 14 columnas para representar datos de 303 pacientes y con la finalidad del estudio de demostrar la existencia de las enfermedades cardiacas en dicha población.\n",
    "\n",
    "Algunos de los parámetros considerados fueron la edad, el sexo, escalas de dolor de pecho, colesterol en suero, glucemia, el pico del segmento ST en ejercicio (slope) y la probabilidad de tener un ataque al corazon; proporcionando escalas para cada uno de ellos\n",
    "\n",
    "\n",
    "\n",
    "\n",
    "\n",
    "1.-Organizacion mundial de la Salud.\"Prevención y control de las enfermedades cardiovasculares\". Disponible en: https://www.who.int/cardiovascular_diseases/es/ [Consultado el 6 de septiembre 2020].\n"
   ]
  }
 ],
 "metadata": {
  "kernelspec": {
   "display_name": "Python 3",
   "language": "python",
   "name": "python3"
  },
  "language_info": {
   "codemirror_mode": {
    "name": "ipython",
    "version": 3
   },
   "file_extension": ".py",
   "mimetype": "text/x-python",
   "name": "python",
   "nbconvert_exporter": "python",
   "pygments_lexer": "ipython3",
   "version": "3.6.9"
  }
 },
 "nbformat": 4,
 "nbformat_minor": 4
}
